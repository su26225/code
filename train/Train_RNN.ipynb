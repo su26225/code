{
 "cells": [
  {
   "cell_type": "markdown",
   "metadata": {
    "id": "v5g3QINuoPyL"
   },
   "source": [
    "#IMPORT"
   ]
  },
  {
   "cell_type": "code",
   "execution_count": null,
   "metadata": {},
   "outputs": [],
   "source": [
    "import sys\n",
    "pythonpath = sys.executable\n",
    "print(pythonpath)\n"
   ]
  },
  {
   "cell_type": "code",
   "execution_count": 39,
   "metadata": {},
   "outputs": [
    {
     "data": {
      "text/plain": [
       "'2.0.0'"
      ]
     },
     "execution_count": 39,
     "metadata": {},
     "output_type": "execute_result"
    }
   ],
   "source": [
    "import tensorflow as tf\n",
    "tf.__version__"
   ]
  },
  {
   "cell_type": "code",
   "execution_count": 1,
   "metadata": {
    "colab": {
     "base_uri": "https://localhost:8080/"
    },
    "id": "l8pxb6zdn1i0",
    "outputId": "0a61d0a8-7bbc-49b9-b0dc-e4a57e9f6667"
   },
   "outputs": [],
   "source": [
    "import numpy as np\n",
    "import pandas as pd\n",
    "import datetime\n",
    "from datetime import datetime  \n",
    "import csv\n",
    "import os\n",
    "from os import listdir\n",
    "import json\n",
    "import scipy\n",
    "import csv\n",
    "import sys\n",
    "import pandas as pd\n",
    "import seaborn as sns\n",
    "import matplotlib.pyplot as plt\n",
    "from sklearn.model_selection import train_test_split\n",
    "# import tensorflow as tf\n",
    "from keras.models import Sequential\n",
    "from keras.layers import Dense\n",
    "from keras.layers import LSTM\n",
    "from keras.layers import RNN\n",
    "from keras.models import load_model\n",
    "from sklearn.metrics import accuracy_score\n",
    "from sklearn.metrics import confusion_matrix\n",
    "from sklearn.preprocessing import MinMaxScaler\n",
    "np.random.seed(2018)"
   ]
  },
  {
   "cell_type": "code",
   "execution_count": null,
   "metadata": {
    "colab": {
     "base_uri": "https://localhost:8080/"
    },
    "id": "_PuYVc_wn7-b",
    "outputId": "bfd761d7-a959-46ae-d826-990f857ddc8a"
   },
   "outputs": [
    {
     "name": "stdout",
     "output_type": "stream",
     "text": [
      "Drive already mounted at /content/gdrive; to attempt to forcibly remount, call drive.mount(\"/content/gdrive\", force_remount=True).\n"
     ]
    }
   ],
   "source": [
    "# from google.colab import drive\n",
    "# drive.mount('/content/gdrive')\n",
    "# drive = '/content/gdrive/My Drive/PaperGiugno/'\n",
    "# path_db = drive + 'db_blackblaze'"
   ]
  },
  {
   "cell_type": "code",
   "execution_count": null,
   "metadata": {},
   "outputs": [],
   "source": [
    "import sys\n",
    "pythonpath = sys.executable\n",
    "\n"
   ]
  },
  {
   "cell_type": "markdown",
   "metadata": {
    "id": "LPAiKwid59Zt"
   },
   "source": [
    "# Functions"
   ]
  },
  {
   "cell_type": "code",
   "execution_count": 2,
   "metadata": {
    "id": "0vDQvLZl6xX2"
   },
   "outputs": [],
   "source": [
    "def computeDay(group):\n",
    "  group = group.sort_values('date')    #ordino in base ai giorni... dal più recente al meno\n",
    "  group['DayToFailure'] = list(range(group.shape[0]-1, -1,-1 ))\n",
    "  return group\n",
    "\n",
    "def divideInLevel(x):\n",
    "  if x.Label == 0:\n",
    "    return 'Good' #Good\n",
    "  elif x.DayToFailure <= 9:\n",
    "    return 'Alert' # Alert \n",
    "  elif x.DayToFailure <= 21:\n",
    "    return 'Warning ' #Warning \n",
    "  else:\n",
    "    return 'Very Fair'\n",
    "\n",
    "\n",
    "\n",
    "def tolerance_acc(x):\n",
    "  if x.pred == 'c_Good':\n",
    "    return x.vero == 'c_Good' or x.vero == 'c_Very Fair'\n",
    "  \n",
    "  if x.pred == 'c_Very Fair':\n",
    "    return x.vero == 'c_Good' or x.vero == 'c_Very Fair' or x.vero == 'c_Warning'\n",
    "  \n",
    "  if x.pred == 'c_Warning':\n",
    "    return  x.vero == 'c_Very Fair' or x.vero == 'c_Warning' or x.vero == 'c_Alert' \n",
    "  \n",
    "  if x.pred == 'c_Alert':\n",
    "    return  x.vero == 'c_Warning' or x.vero == 'c_Alert' \n",
    "\n",
    "\n",
    "def binary_classification_pred(x):\n",
    "  if x.pred == 'c_Good'  or x.pred == 'c_Very Fair':\n",
    "    return 0\n",
    "  else:\n",
    "    return 1\n",
    "    \n",
    "  \n",
    "def binary_classification_label(x):\n",
    "  if x.vero == 'c_Good'  or x.vero == 'c_Very Fair':\n",
    "    return 0\n",
    "  else:\n",
    "    return 1\n",
    "\n",
    "\n",
    "def series_to_supervised(data, n_in=1, n_out=1, dropnan=True):\n",
    "  n_vars = data.shape[1]\n",
    "  cols, names = list(), list()\n",
    "  dataclass = data[data.columns[-1:]]\n",
    "  data = data.drop(columns= ['serial_number', 'Class'], axis = 1)\n",
    "  columns = data.columns\n",
    "  # input sequence (t-n, ... t-1)  #non arrivo all'osservazione corrente\n",
    "  for i in range(n_in-1, 0, -1):\n",
    "    cols.append(data.shift(i))\n",
    "    names += [(element + '(t-%d)' % (i)) for element in columns]\n",
    "    \n",
    "  for i in range(0, n_out):\n",
    "    cols.append(data.shift(-i))\n",
    "    if i == 0:\n",
    "      names += [(element+'(t)') for element in columns]\n",
    "    else:\n",
    "      names += [(element +'(t+%d)' % (i)) for element in columns]\n",
    "  \n",
    "  cols.append(dataclass)   #appendo le ultime cinque colonne\n",
    "  names += ['Class']\n",
    "    \n",
    "  agg = pd.concat(cols, axis=1)\n",
    "  agg.columns = names\n",
    "  if dropnan:\n",
    "    agg.dropna(inplace=True)\n",
    "  \n",
    "  return agg\n",
    "\n",
    "\n",
    "def balancing_by_replication(X_train):\n",
    "  \n",
    "  alert = X_train[X_train.c_Alert == 1] \n",
    "  vfair = X_train[X_train['c_Very Fair'] == 1]\n",
    "  warn =  X_train[X_train.c_Warning == 1]\n",
    "  #'c_Alert','c_Good','c_Very Fair','c_Warning'\n",
    "  good = X_train[X_train.c_Good == 1] # sono i buoni\n",
    "\n",
    "  size_good = good.shape[0]\n",
    "\n",
    "  while alert.shape[0] < size_good:\n",
    "    app = alert.sample(min(alert.shape[0], size_good - alert.shape[0]), replace=False)\n",
    "    alert = alert.append(app)\n",
    "\n",
    "  while vfair.shape[0] < size_good:\n",
    "    app = vfair.sample(min(vfair.shape[0], size_good - vfair.shape[0]), replace=False)\n",
    "    vfair = vfair.append(app)\n",
    "  \n",
    "  while warn.shape[0] < size_good:\n",
    "    app = warn.sample(min(warn.shape[0], size_good - warn.shape[0]), replace=False)\n",
    "    warn = warn.append(app)\n",
    "\n",
    "  \n",
    "  good = good.append(alert)\n",
    "  good = good.append(vfair)\n",
    "  good = good.append(warn)\n",
    "  return good "
   ]
  },
  {
   "cell_type": "markdown",
   "metadata": {
    "id": "BS1HtLg7PIwU"
   },
   "source": [
    "#Pre- processing"
   ]
  },
  {
   "cell_type": "code",
   "execution_count": 3,
   "metadata": {
    "id": "0PTfLJxYXhPJ"
   },
   "outputs": [],
   "source": [
    "listLabels = ['c_Alert','c_Good','c_Very Fair','c_Warning']\n",
    "finestra = 14\n",
    "# 15model\\Train-WDC-WD30EFRX BalckDaUsare\n",
    "\n",
    "df= pd.read_csv('15model\\Train-WDC-WD30EFRX.csv',sep=',')\n",
    "df = df.dropna()\n",
    "df.date = pd.to_datetime(df.date, format='%Y-%m-%d').dt.date\n",
    "df = df.drop(['CurrentPendingSectorCount','ReallocatedSectorsCount','model','capacity_bytes'], axis=1)\n",
    "\n",
    "scaler = MinMaxScaler(feature_range = (-1,1))\n",
    "df[['ReportedUncorrectableErrors', 'HighFlyWrites', 'TemperatureCelsius', \n",
    "    'RawCurrentPendingSectorCount','RawReadErrorRate', 'SpinUpTime', \n",
    "    'RawReallocatedSectorsCount', 'SeekErrorRate', 'PowerOnHours']] = scaler.fit_transform(df[['ReportedUncorrectableErrors', \n",
    "                                                                                               'HighFlyWrites', 'TemperatureCelsius', \n",
    "                                                                                               'RawCurrentPendingSectorCount',\n",
    "                                                                                               'RawReadErrorRate', 'SpinUpTime', \n",
    "                                                                                               'RawReallocatedSectorsCount', \n",
    "                                                                                               'SeekErrorRate', 'PowerOnHours']])\n",
    "\n",
    "dfHour = df.groupby(['serial_number']).apply(computeDay)\n",
    "dfHour = dfHour[dfHour.DayToFailure <= 45]\n",
    "dfHour = dfHour.drop(columns = ['date'])\n",
    "dfHour['Class'] = dfHour.apply(divideInLevel, axis=1)\n",
    "dfHour= dfHour.drop(columns= ['Label','DayToFailure', 'serial_number'], axis=1)\n",
    "dfHour=dfHour.reset_index()\n",
    "dfHour= dfHour.drop(columns= ['level_1'], axis=1)"
   ]
  },
  {
   "cell_type": "code",
   "execution_count": 4,
   "metadata": {},
   "outputs": [
    {
     "name": "stdout",
     "output_type": "stream",
     "text": [
      "Creazione Sequenze\n",
      "c_Alert          461\n",
      "c_Good         25811\n",
      "c_Very Fair      405\n",
      "c_Warning        487\n",
      "dtype: int64\n",
      "Index(['c_Alert', 'c_Good', 'c_Very Fair', 'c_Warning '], dtype='object')\n"
     ]
    }
   ],
   "source": [
    "#creo le sequenze\n",
    "print('Creazione Sequenze')\n",
    "dfHourSequence =  dfHour.groupby(['serial_number']).apply(series_to_supervised, n_in=finestra, n_out=1, dropnan=True)\n",
    "dfHourSequence = pd.concat([dfHourSequence, pd.get_dummies(dfHourSequence.Class,prefix='c')], axis=1).drop(['Class'],axis=1)\n",
    "numberClasses = len(listLabels)\n",
    "\n",
    "#divisione in train validation e split\n",
    "X_train, X_rim, y_train, y_rim = train_test_split(dfHourSequence[dfHourSequence.columns[:-numberClasses]],\n",
    "                                                  dfHourSequence[dfHourSequence.columns[-numberClasses:]] ,\n",
    "                                                  stratify=dfHourSequence[dfHourSequence.columns[-numberClasses:]],\n",
    "                                                  test_size=0.30)\n",
    "\n",
    "print(y_train.sum())\n",
    "print(y_train.columns)\n",
    "del dfHourSequence\n",
    "del dfHour"
   ]
  },
  {
   "cell_type": "code",
   "execution_count": 5,
   "metadata": {
    "pycharm": {
     "name": "#%%\n"
    }
   },
   "outputs": [
    {
     "name": "stdout",
     "output_type": "stream",
     "text": [
      "Balancing\n",
      "(103244, 130)\n",
      "                                      HighFlyWrites(t)  HighFlyWrites(t-1)  \\\n",
      "c_Alert c_Good c_Very Fair c_Warning                                         \n",
      "0       0      0           1                       104                 104   \n",
      "               1           0                        87                  87   \n",
      "        1      0           0                      5531                5531   \n",
      "1       0      0           0                        99                  99   \n",
      "\n",
      "                                      HighFlyWrites(t-10)  \\\n",
      "c_Alert c_Good c_Very Fair c_Warning                        \n",
      "0       0      0           1                          104   \n",
      "               1           0                           87   \n",
      "        1      0           0                         5531   \n",
      "1       0      0           0                           99   \n",
      "\n",
      "                                      HighFlyWrites(t-11)  \\\n",
      "c_Alert c_Good c_Very Fair c_Warning                        \n",
      "0       0      0           1                          104   \n",
      "               1           0                           87   \n",
      "        1      0           0                         5531   \n",
      "1       0      0           0                           99   \n",
      "\n",
      "                                      HighFlyWrites(t-12)  \\\n",
      "c_Alert c_Good c_Very Fair c_Warning                        \n",
      "0       0      0           1                          104   \n",
      "               1           0                           87   \n",
      "        1      0           0                         5531   \n",
      "1       0      0           0                           99   \n",
      "\n",
      "                                      HighFlyWrites(t-13)  HighFlyWrites(t-2)  \\\n",
      "c_Alert c_Good c_Very Fair c_Warning                                            \n",
      "0       0      0           1                          104                 104   \n",
      "               1           0                           87                  87   \n",
      "        1      0           0                         5531                5531   \n",
      "1       0      0           0                           99                  99   \n",
      "\n",
      "                                      HighFlyWrites(t-3)  HighFlyWrites(t-4)  \\\n",
      "c_Alert c_Good c_Very Fair c_Warning                                           \n",
      "0       0      0           1                         104                 104   \n",
      "               1           0                          87                  87   \n",
      "        1      0           0                        5531                5531   \n",
      "1       0      0           0                          99                  99   \n",
      "\n",
      "                                      HighFlyWrites(t-5)  ...  \\\n",
      "c_Alert c_Good c_Very Fair c_Warning                      ...   \n",
      "0       0      0           1                         104  ...   \n",
      "               1           0                          87  ...   \n",
      "        1      0           0                        5531  ...   \n",
      "1       0      0           0                          99  ...   \n",
      "\n",
      "                                      TemperatureCelsius(t-12)  \\\n",
      "c_Alert c_Good c_Very Fair c_Warning                             \n",
      "0       0      0           1                               104   \n",
      "               1           0                                87   \n",
      "        1      0           0                              5531   \n",
      "1       0      0           0                                99   \n",
      "\n",
      "                                      TemperatureCelsius(t-13)  \\\n",
      "c_Alert c_Good c_Very Fair c_Warning                             \n",
      "0       0      0           1                               104   \n",
      "               1           0                                87   \n",
      "        1      0           0                              5531   \n",
      "1       0      0           0                                99   \n",
      "\n",
      "                                      TemperatureCelsius(t-2)  \\\n",
      "c_Alert c_Good c_Very Fair c_Warning                            \n",
      "0       0      0           1                              104   \n",
      "               1           0                               87   \n",
      "        1      0           0                             5531   \n",
      "1       0      0           0                               99   \n",
      "\n",
      "                                      TemperatureCelsius(t-3)  \\\n",
      "c_Alert c_Good c_Very Fair c_Warning                            \n",
      "0       0      0           1                              104   \n",
      "               1           0                               87   \n",
      "        1      0           0                             5531   \n",
      "1       0      0           0                               99   \n",
      "\n",
      "                                      TemperatureCelsius(t-4)  \\\n",
      "c_Alert c_Good c_Very Fair c_Warning                            \n",
      "0       0      0           1                              104   \n",
      "               1           0                               87   \n",
      "        1      0           0                             5531   \n",
      "1       0      0           0                               99   \n",
      "\n",
      "                                      TemperatureCelsius(t-5)  \\\n",
      "c_Alert c_Good c_Very Fair c_Warning                            \n",
      "0       0      0           1                              104   \n",
      "               1           0                               87   \n",
      "        1      0           0                             5531   \n",
      "1       0      0           0                               99   \n",
      "\n",
      "                                      TemperatureCelsius(t-6)  \\\n",
      "c_Alert c_Good c_Very Fair c_Warning                            \n",
      "0       0      0           1                              104   \n",
      "               1           0                               87   \n",
      "        1      0           0                             5531   \n",
      "1       0      0           0                               99   \n",
      "\n",
      "                                      TemperatureCelsius(t-7)  \\\n",
      "c_Alert c_Good c_Very Fair c_Warning                            \n",
      "0       0      0           1                              104   \n",
      "               1           0                               87   \n",
      "        1      0           0                             5531   \n",
      "1       0      0           0                               99   \n",
      "\n",
      "                                      TemperatureCelsius(t-8)  \\\n",
      "c_Alert c_Good c_Very Fair c_Warning                            \n",
      "0       0      0           1                              104   \n",
      "               1           0                               87   \n",
      "        1      0           0                             5531   \n",
      "1       0      0           0                               99   \n",
      "\n",
      "                                      TemperatureCelsius(t-9)  \n",
      "c_Alert c_Good c_Very Fair c_Warning                           \n",
      "0       0      0           1                              104  \n",
      "               1           0                               87  \n",
      "        1      0           0                             5531  \n",
      "1       0      0           0                               99  \n",
      "\n",
      "[4 rows x 126 columns]\n",
      "(22124, 130)\n",
      "c_Alert        25811\n",
      "c_Good         25811\n",
      "c_Very Fair    25811\n",
      "c_Warning      25811\n",
      "dtype: int64\n",
      "c_Alert        5531\n",
      "c_Good         5531\n",
      "c_Very Fair    5531\n",
      "c_Warning      5531\n",
      "dtype: int64\n",
      "(103244, 14, 9)\n",
      "(22124, 14, 9)\n",
      "(5822, 14, 9)\n",
      "(103244, 4)\n",
      "(22124, 4)\n",
      "(5822, 4)\n"
     ]
    }
   ],
   "source": [
    "X_val, X_test, y_val, y_test = train_test_split(X_rim, y_rim ,stratify=y_rim, test_size=0.50)\n",
    "\n",
    "\n",
    "del X_rim\n",
    "del y_rim\n",
    "X_train = pd.concat([X_train, pd.DataFrame(columns = listLabels)], sort = True)\n",
    "X_val = pd.concat([X_val,  pd.DataFrame(columns = listLabels)], sort = True)\n",
    "X_test = pd.concat([X_test, pd.DataFrame(columns = listLabels)], sort = True)\n",
    "\n",
    "X_train[listLabels] = y_train.values\n",
    "X_val[listLabels] = y_val.values\n",
    "X_test[listLabels] = y_test.values\n",
    "\n",
    "\n",
    "del y_train\n",
    "del y_val\n",
    "del y_test\n",
    "\n",
    "\n",
    "\n",
    "print('Balancing')\n",
    "Complete_train  = balancing_by_replication(X_train)\n",
    "print(Complete_train.shape)\n",
    "del X_train\n",
    "\n",
    "print(X_val.groupby(listLabels).count())\n",
    "Complete_val = balancing_by_replication(X_val)\n",
    "print(Complete_val.shape)\n",
    "del X_val\n",
    "\n",
    "#tolgo le label\n",
    "ytrain = Complete_train[listLabels].values\n",
    "print(Complete_train[listLabels].sum())\n",
    "Xtrain = Complete_train.drop(columns=listLabels, axis=1 )\n",
    "\n",
    "\n",
    "yVal = Complete_val[listLabels].values\n",
    "print(Complete_val[listLabels].sum())\n",
    "Xval = Complete_val.drop(columns=listLabels, axis=1 )\n",
    "\n",
    "yTest = X_test[listLabels].values\n",
    "Xtest = X_test.drop(columns=listLabels, axis=1 )\n",
    "\n",
    "\n",
    "#reshape come sequenze\n",
    "Xtrain = Xtrain.values.reshape(Xtrain.shape[0], finestra, int(Xtrain.shape[1]/finestra))\n",
    "Xval = Xval.values.reshape(Xval.shape[0], finestra, int(Xval.shape[1]/finestra))\n",
    "Xtest= Xtest.values.reshape(Xtest.shape[0], finestra, int(Xtest.shape[1]/finestra))\n",
    "\n",
    "print(Xtrain.shape)\n",
    "print(Xval.shape)\n",
    "print(Xtest.shape)\n",
    "\n",
    "print(ytrain.shape)\n",
    "print(yVal.shape)\n",
    "print(yTest.shape)\n"
   ]
  },
  {
   "cell_type": "markdown",
   "metadata": {
    "id": "kbxFyEM5sk7p"
   },
   "source": [
    "#Modello"
   ]
  },
  {
   "cell_type": "code",
   "execution_count": 6,
   "metadata": {
    "id": "RV8OcQJSskfx"
   },
   "outputs": [],
   "source": [
    "from keras.layers import SimpleRNN\n",
    "\n",
    "\n",
    "def build_model():\n",
    "  dp_lvl = 0.1\n",
    "  model = Sequential()\n",
    "  model.add(SimpleRNN(128, input_shape=(finestra, 9), return_sequences =  True ))\n",
    "  model.add(SimpleRNN(128, return_sequences =  False))\n",
    "  model.add(Dense(numberClasses, activation='softmax'))\n",
    "  return model\n"
   ]
  },
  {
   "cell_type": "markdown",
   "metadata": {},
   "source": [
    "#Addestramento"
   ]
  },
  {
   "cell_type": "code",
   "execution_count": null,
   "metadata": {
    "id": "lCzPsRLbssiA"
   },
   "outputs": [],
   "source": [
    "# import keras.optimizers\n",
    "from keras.optimizer_v2.adam import Adam\n",
    "\n",
    "epoche = 30\n",
    "historyvet =[]\n",
    "model = build_model()    \n",
    "best_acc= 0.0\n",
    "adam = Adam(lr=0.001, beta_1=0.9, beta_2=0.999, epsilon=None, decay=0, amsgrad=False)\n",
    "# adam = optimizers.Adam(lr=0.001, beta_1=0.9, beta_2=0.999, epsilon=None, decay=0,amsgrad=False)\n",
    "model.compile(loss='categorical_crossentropy', optimizer=adam, metrics=['accuracy'])\n",
    "model.summary()\n",
    "\n",
    "for epoch in range(0,epoche):\n",
    "  print('Epoch {%d}' %(epoch))\n",
    "  history = model.fit(Xtrain, ytrain, epochs=1, batch_size=500, validation_data= (Xval,yVal), shuffle=True)\n",
    "  if (history.history['val_accuracy'][0] > best_acc ):\n",
    "    print('Update best model')\n",
    "    best_acc = history.history['val_accuracy'][0]\n",
    "    best_epoch  = epoch\n",
    "    model.save('model\\RNN\\WDC\\{%d}best_model.h5'%(epoch))\n",
    "    \n",
    "  historyvet.append(history.history)"
   ]
  },
  {
   "cell_type": "markdown",
   "metadata": {
    "id": "LXEm3sPCdxe6"
   },
   "source": [
    "#Plot"
   ]
  },
  {
   "cell_type": "code",
   "execution_count": 8,
   "metadata": {
    "id": "d1zr0l_jsvFR"
   },
   "outputs": [
    {
     "data": {
      "image/png": "[encoded data removed]",
      "text/plain": [
       "<Figure size 640x480 with 1 Axes>"
      ]
     },
     "metadata": {},
     "output_type": "display_data"
    },
    {
     "data": {
      "image/png": "[encoded data removed]",
      "text/plain": [
       "<Figure size 640x480 with 1 Axes>"
      ]
     },
     "metadata": {},
     "output_type": "display_data"
    }
   ],
   "source": [
    "lossTrain=[]\n",
    "lossval=[]\n",
    "accTrain = []\n",
    "accVal =[]\n",
    "\n",
    "for element in historyvet:\n",
    "   lossTrain.append(element['loss'][0])\n",
    "   lossval.append(element['val_loss'][0])\n",
    "   accTrain.append(element['accuracy'][0])\n",
    "   accVal.append(element['val_accuracy'][0])\n",
    "  \n",
    "\n",
    "plt.plot(lossTrain, color='g')\n",
    "plt.plot(lossval, color='r')\n",
    "plt.title('model loss')\n",
    "plt.xlabel('epoch')\n",
    "plt.ylabel('Loss')\n",
    "plt.legend(['train', 'validation'], loc='upper right')\n",
    "plt.show()\n",
    "\n",
    "plt.plot(accTrain, color='g')\n",
    "plt.plot(accVal, color='r')\n",
    "plt.title('model Accuracy')\n",
    "plt.xlabel('epoch')\n",
    "plt.ylabel('Accuracy')\n",
    "plt.legend(['train', 'validation'], loc='upper left')\n",
    "plt.show()"
   ]
  },
  {
   "cell_type": "markdown",
   "metadata": {
    "id": "XsF8fBqeszNR"
   },
   "source": [
    "#Fine tuning on val"
   ]
  },
  {
   "cell_type": "code",
   "execution_count": null,
   "metadata": {
    "id": "NFkOheSCsyfF"
   },
   "outputs": [],
   "source": [
    "newModel = load_model( 'model\\RNN\\WDC\\best_model.h5')\n",
    "adam = Adam(lr=0.00001, beta_1=0.9, beta_2=0.999, epsilon=None, decay=0.0, amsgrad=False)\n",
    "newModel.compile(loss='categorical_crossentropy', optimizer=adam, metrics=['accuracy'])\n",
    "newModel.summary()\n",
    "epoche = 25\n",
    "\n",
    "historyRiadd = newModel.fit(Xval,yVal, epochs=epoche, batch_size=1024, shuffle=True)\n",
    "newModel.save('model\\RNN\\WDC\\Final_model.h5')"
   ]
  },
  {
   "cell_type": "markdown",
   "metadata": {
    "id": "s9Ajf7xwd3VE"
   },
   "source": [
    "#Performance evaluation"
   ]
  },
  {
   "cell_type": "code",
   "execution_count": 10,
   "metadata": {
    "id": "v4ynIql7s4SL"
   },
   "outputs": [
    {
     "name": "stdout",
     "output_type": "stream",
     "text": [
      "WARNING:tensorflow:AutoGraph could not transform <function Model.make_test_function.<locals>.test_function at 0x0000025902BC57B8> and will run it as-is.\n",
      "Please report this to the TensorFlow team. When filing the bug, set the verbosity to 10 (on Linux, `export AUTOGRAPH_VERBOSITY=10`) and attach the full output.\n",
      "Cause: 'arguments' object has no attribute 'posonlyargs'\n",
      "To silence this warning, decorate the function with @tf.autograph.experimental.do_not_convert\n",
      "WARNING: AutoGraph could not transform <function Model.make_test_function.<locals>.test_function at 0x0000025902BC57B8> and will run it as-is.\n",
      "Please report this to the TensorFlow team. When filing the bug, set the verbosity to 10 (on Linux, `export AUTOGRAPH_VERBOSITY=10`) and attach the full output.\n",
      "Cause: 'arguments' object has no attribute 'posonlyargs'\n",
      "To silence this warning, decorate the function with @tf.autograph.experimental.do_not_convert\n",
      "182/182 [==============================] - 3s 7ms/step - loss: 0.2542 - accuracy: 0.9215\b\b\b\b\b\b\b\b\b\b\b\b\b\b\b\b\b\b\b\b\b\b\b\b\b\b\b\b\b\b\b\b\b\b\b\b\b\b\b\b\b\b\b\b\b\b\b\b\b\b\b\b\b\b\b\b\b\b\b\b\b\b\b\b\b\b\b\b\b\b\b\b\b\b\b\b\b\b\b\b\b\b\b\b\b\b\b\b\b\b\b\b\b\b\b\b\b\b\b\b\b\b\b\b\b\b\b\b\b\b\b\b\b\b\b\b\b\b\b\b\b\b\b\b\b\b\b\b\b\b\b\b\b\b\b\b\b\b\b\b\b\b\b\b\b\b\b\b\b\b\b\b\b\b\b\b\b\b\b\b\b\b\b\b\b\b\b\b\b\b\b\b\b\b\b\b\b\b\b\b\b\b\b\b\b\b\b\b\b\b\b\b\b\b\b\b\b\b\b\b\b\b\b\b\b\b\b\b\b\b\b\b\b\b\b\b\b\b\b\b\b\b\b\b\b\b\b\b\b\b\b\b\b\b\b\b\b\b\b\b\b\b\b\b\b\b\b\b\b\b\b\b\b\b\b\b\b\b\b\b\b\b\b\b\b\b\b\b\b\b\b\b\b\b\b\b\b\b\b\b\b\b\b\b\b\b\b\b\b\b\b\b\b\b\b\b\b\b\b\b\b\b\b\b\b\b\b\b\b\b\b\b\b\b\b\b\b\b\b\b\b\b\b\b\b\b\b\b\b\b\b\b\b\b\b\b\b\b\b\b\b\b\b\b\b\b\b\b\b\b\b\b\b\b\b\b\b\b\b\b\b\b\b\b\b\b\b\b\b\b\b\b\b\b\b\b\b\b\b\b\b\b\b\b\b\b\b\b\b\b\b\b\b\b\b\b\b\b\b\b\b\b\b\b\b\b\b\b\b\b\b\b\b\b\b\b\b\b\b\b\b\b\b\b\b\b\b\b\b\b\b\b\b\b\b\b\b\b\b\b\b\b\b\b\b\b\b\b\b\b\b\b\b\b\b\b\b\b\b\b\b\b\b\b\b\b\b\b\b\b\b\b\b\b\b\b\b\b\b\b\b\b\b\b\b\b\b\b\b\b\b\b\b\b\b\b\b\b\b\b\b\b\b\b\b\b\b\b\b\b\b\b\b\b\b\b\b\b\b\b\b\b\b\b\b\b\b\b\b\b\b\b\b\b\b\b\b\b\b\b\b\b\b\b\b\b\b\b\b\b\b\b\b\b\b\b\b\b\b\b\b\b\b\b\b\b\b\b\b\b\b\b\b\b\b\b\b\b\b\b\b\b\b\b\b\b\b\b\b\b\b\b\b\b\b\b\b\b\b\b\b\b\b\b\b\b\b\b\b\b\b\b\b\b\b\b\b\b\b\b\b\b\b\b\b\b\b\b\b\b\b\b\b\b\b\b\b\b\b\b\b\b\b\b\b\b\b\b\b\b\b\b\b\b\b\b\b\b\b\b\b\b\b\b\b\b\b\b\b\b\b\b\b\b\b\b\b\b\b\b\b\b\b\b\b\b\b\b\b\b\b\b\b\b\b\b\b\b\b\b\b\b\b\b\b\b\b\b\b\b\b\b\b\b\b\b\b\b\b\b\b\b\b\b\b\b\b\b\b\b\b\b\b\b\b\b\b\b\b\b\b\b\b\b\b\b\b\b\b\b\b\b\b\b\b\b\b\b\b\b\b\b\b\b\b\b\b\b\b\b\b\b\b\b\b\b\b\b\b\b\b\b\b\b\b\b\b\b\b\b\b\b\b\b\b\b\b\b\b\b\b\b\b\b\b\b\b\b\b\b\b\b\b\b\b\b\b\b\b\b\b\b\b\b\b\b\b\b\b\b\b\b\b\b\b\b\b\b\b\b\b\b\b\b\b\b\b\b\b\b\b\b\b\b\b\b\b\b\b\b\b\b\b\b\b\b\b\b\b\b\b\b\b\b\b\b\b\b\b\b\b\b\b\b\b\b\b\b\b\b\b\b\b\b\b\b\b\b\b\b\b\b\b\b\b\b\b\b\b\b\b\b\b\b\b\b\b\b\b\b\b\b\b\b\b\b\b\b\b\b\b\b\b\b\b\b\b\b\b\b\b\b\b\b\b\b\b\b\b\b\b\b\b\b\b\b\b\b\b\b\b\b\b\b\b\b\b\b\b\b\b\b\b\b\b\b\b\b\b\b\b\b\b\b\b\b\b\b\b\b\b\b\b\b\b\b\b\b\b\b\b\b\b\b\b\b\b\b\b\b\b\b\b\b\b\b\b\b\b\b\b\b\b\b\b\b\b\b\b\b\b\b\b\b\b\b\b\b\b\b\b\b\b\b\b\b\b\b\b\b\b\b\b\b\b\b\b\b\b\b\b\b\b\b\b\b\b\b\b\b\b\b\b\b\b\b\b\b\b\b\b\b\b\b\b\b\b\b\b\b\b\b\b\b\b\b\b\b\b\b\b\b\b\b\b\b\b\b\b\b\b\b\b\b\b\b\b\b\b\b\b\b\b\b\b\b\b\b\b\b\b\b\b\b\b\b\b\b\b\b\b\b\b\b\b\b\b\b\b\b\b\b\b\b\b\b\b\b\b\b\b\b\b\b\b\b\b\b\b\b\b\b\b\b\b\b\b\b\b\b\b\b\b\b\b\b\b\b\b\b\b\b\b\b\b\b\b\b\b\b\b\b\b\b\b\b\b\b\b\b\b\b\b\b\b\b\b\b\b\b\b\b\b\b\b\b\b\b\b\b\b\b\b\b\b\b\b\b\b\b\b\b\b\b\b\b\b\b\b\b\b\b\b\b\b\b\b\b\b\b\b\b\b\b\b\b\b\b\b\b\b\b\b\b\b\b\b\b\b\b\b\b\b\b\b\b\b\b\b\b\b\b\b\b\b\b\b\b\b\b\b\b\b\b\b\b\b\b\b\b\b\b\b\b\b\b\b\b\b\b\b\b\b\b\b\b\b\b\b\b\b\b\b\b\b\b\b\b\b\b\b\b\b\b\b\b\b\b\b\b\b\b\b\b\b\b\b\b\b\b\b\b\b\b\b\b\b\b\b\b\b\b\b\b\b\b\b\b\b\b\b\b\b\b\b\b\b\b\b\b\b\b\b\b\b\b\b\b\b\b\b\b\b\b\b\b\b\b\b\b\b\b\b\b\b\b\b\b\b\b\b\b\b\b\b\b\b\b\b\b\b\b\b\b\b\b\b\b\b\b\b\b\b\b\b\b\b\b\b\b\b\b\b\b\b\b\b\b\b\b\b\b\b\b\b\b\b\b\b\b\b\b\b\b\b\b\b\b\b\b\b\b\b\b\b\b\b\b\b\b\b\b\b\b\b\b\b\b\b\b\b\b\b\b\b\b\b\b\b\b\b\b\b\b\b\b\b\b\b\b\b\b\b\b\b\b\b\b\b\b\b\b\b\b\b\b\b\b\b\b\b\b\b\b\b\b\b\b\b\b\b\b\b\b\b\b\b\b\b\b\b\b\b\b\b\b\b\b\b\b\b\b\b\b\b\b\b\b\b\b\b\b\b\b\b\b\b\b\b\b\b\b\b\b\b\b\b\b\b\b\b\b\b\b\b\b\b\b\b\b\b\b\b\b\b\b\b\b\b\b\b\b\b\b\b\b\b\b\b\b\b\b\b\b\b\b\b\b\b\b\b\b\b\b\b\b\b\b\b\b\b\b\b\b\b\b\b\b\b\b\b\b\b\b\b\b\b\b\b\b\b\b\b\b\b\b\b\b\b\b\b\b\b\b\b\b\b\b\b\b\b\b\b\b\b\b\b\b\b\b\b\b\b\b\b\b\b\b\b\b\b\b\b\b\b\b\b\b\b\b\b\b\b\b\b\b\b\b\b\b\b\b\b\b\b\b\b\b\b\b\b\b\b\b\b\b\b\b\b\b\b\b\b\b\b\b\b\b\b\b\b\b\b\b\n",
      "[0.25416117906570435, 0.9215046167373657]\n"
     ]
    }
   ],
   "source": [
    "print(newModel.evaluate(Xtest,yTest))"
   ]
  },
  {
   "cell_type": "code",
   "execution_count": 11,
   "metadata": {
    "id": "GsAiAvFCs5lT"
   },
   "outputs": [
    {
     "name": "stdout",
     "output_type": "stream",
     "text": [
      "WARNING:tensorflow:AutoGraph could not transform <function Model.make_predict_function.<locals>.predict_function at 0x0000025903047840> and will run it as-is.\n",
      "Please report this to the TensorFlow team. When filing the bug, set the verbosity to 10 (on Linux, `export AUTOGRAPH_VERBOSITY=10`) and attach the full output.\n",
      "Cause: 'arguments' object has no attribute 'posonlyargs'\n",
      "To silence this warning, decorate the function with @tf.autograph.experimental.do_not_convert\n",
      "WARNING: AutoGraph could not transform <function Model.make_predict_function.<locals>.predict_function at 0x0000025903047840> and will run it as-is.\n",
      "Please report this to the TensorFlow team. When filing the bug, set the verbosity to 10 (on Linux, `export AUTOGRAPH_VERBOSITY=10`) and attach the full output.\n",
      "Cause: 'arguments' object has no attribute 'posonlyargs'\n",
      "To silence this warning, decorate the function with @tf.autograph.experimental.do_not_convert\n",
      "(5822, 4)\n",
      "0            c_Good\n",
      "1            c_Good\n",
      "2            c_Good\n",
      "3            c_Good\n",
      "4            c_Good\n",
      "           ...     \n",
      "5817         c_Good\n",
      "5818         c_Good\n",
      "5819      c_Warning\n",
      "5820         c_Good\n",
      "5821    c_Very Fair\n",
      "Length: 5822, dtype: object\n"
     ]
    }
   ],
   "source": [
    "newModel = load_model( 'model\\RNN\\WDC\\Final_model.h5')\n",
    "\n",
    "pred = newModel.predict(Xtest)\n",
    "print(pred.shape)\n",
    "predpd = pd.DataFrame(pred, columns=listLabels)\n",
    "print(predpd.idxmax(axis=1))\n",
    "predpd= predpd.idxmax(axis=1)\n",
    "predpd = predpd.to_frame()\n",
    "\n",
    "ytestpd = pd.DataFrame(yTest, columns=listLabels)\n",
    "ytestpd= ytestpd.idxmax(axis=1)"
   ]
  },
  {
   "cell_type": "code",
   "execution_count": 12,
   "metadata": {
    "id": "alStEkohs7T9"
   },
   "outputs": [
    {
     "name": "stdout",
     "output_type": "stream",
     "text": [
      "Accuracy sul Test : 0.9215046375815871\n",
      "confusion_matrix:\n",
      "[[  74    3    3   19]\n",
      " [ 110 5170  123  129]\n",
      " [   3    8   60   15]\n",
      " [  13    9   22   61]]\n",
      "显示百分比：\n",
      "[[ 0.7475  0.0303  0.0303  0.1919]\n",
      " [ 0.0199  0.9346  0.0222  0.0233]\n",
      " [ 0.0349  0.0930  0.6977  0.1744]\n",
      " [ 0.1238  0.0857  0.2095  0.5810]]\n",
      "accuracy_score: \n",
      "0.9215046375815871\n",
      "precision_score: \n",
      "0.9619913299952848\n",
      "recall_score: \n",
      "0.9215046375815871\n",
      "f1_score: \n",
      "0.9374698079681952\n",
      "FPR :  [ 0.0220  0.0690  0.0258  0.0285]\n",
      "FNR :  [ 0.2525  0.0654  0.3023  0.4190]\n",
      "MCC:  [ 0.5150  0.6054  0.4367  0.3822]\n"
     ]
    },
    {
     "data": {
      "text/plain": [
       "(array([ 0.5000,  1.5000,  2.5000,  3.5000]),\n",
       " [Text(0, 0.5, 'c_Alert'),\n",
       "  Text(0, 1.5, 'c_Good'),\n",
       "  Text(0, 2.5, 'c_Very Fair'),\n",
       "  Text(0, 3.5, 'c_Warning')])"
      ]
     },
     "execution_count": 12,
     "metadata": {},
     "output_type": "execute_result"
    },
    {
     "data": {
      "image/png": "[encoded data removed]",
      "text/plain": [
       "<Figure size 1200x1200 with 1 Axes>"
      ]
     },
     "metadata": {},
     "output_type": "display_data"
    }
   ],
   "source": [
    "from sklearn import metrics\n",
    "\n",
    "acc2 = accuracy_score(ytestpd.values, predpd.values)\n",
    "print('Accuracy sul Test :', acc2)\n",
    "\n",
    "print('confusion_matrix:')\n",
    "confm = metrics.confusion_matrix(ytestpd.values, predpd.values)\n",
    "print(confm)\n",
    "cm = confm.astype('float') / confm.sum(axis=1)[:, np.newaxis]\n",
    "np.set_printoptions(formatter={'float': '{: 0.4f}'.format})\n",
    "print(cm)\n",
    "\n",
    "print('accuracy_score: ')\n",
    "print(metrics.accuracy_score(ytestpd.values, predpd.values))\n",
    "print('precision_score: ')\n",
    "print(metrics.precision_score(ytestpd.values, predpd.values, average='weighted'))\n",
    "print('recall_score: ')\n",
    "print(metrics.recall_score(ytestpd.values, predpd.values, average='weighted'))\n",
    "print('f1_score: ')\n",
    "print(metrics.f1_score(ytestpd.values, predpd.values, average='weighted'))\n",
    "# TN, FP, FN, TP = confm[0,0], confm[0,1], confm[1,0], confm[1,1]\n",
    "FP = confm.sum(axis=0) - np.diag(confm)\n",
    "FN = confm.sum(axis=1) - np.diag(confm)\n",
    "TP = np.diag(confm)\n",
    "TN = confm.sum() - (FP + FN + TP)\n",
    "# FP = FP.astype(float)\n",
    "# FN = FN.astype(float)\n",
    "# TP = TP.astype(float)\n",
    "# TN = TN.astype(float)\n",
    "hh = (TP + FP) * (TP + FN) * (TN + FP) * (TN + FN)\n",
    "\n",
    "FPR = FP/(FP+TN)\n",
    "# print('FPR : ',FPR)\n",
    "# f1 = lambda FPR:'%.2f%%' % (100*FPR)\n",
    "# for i in range(len(FPR)):\n",
    "#     print(FPR[i])\n",
    "# #     FPR[i] = float(FPR[i]) * 100 + '%'\n",
    "# #     FPR[i] = str(FPR[i] * 100)[:5].strip()+ '%'\n",
    "#     FPR[i] = \"%.2f%%\" % (round((FPR[i]) * 100, 3))\n",
    "print('FPR : ',FPR)\n",
    "print('FNR : ',FN/(FN+TP))\n",
    "MCC = (TP * TN - FP * FN) / np.sqrt(hh)\n",
    "print('MCC: ', MCC)\n",
    "\n",
    "c=confusion_matrix(ytestpd.values, predpd.values)\n",
    "plt.figure(figsize=(12,12))\n",
    "ax = sns.heatmap(c, yticklabels=1, xticklabels=1, annot=True, fmt=\"d\", cbar=False)\n",
    "ax.figure.axes[-1].yaxis.label.set_size(20)\n",
    "ax.set_xlabel(\"Predicted Label\",fontsize=20)\n",
    "ax.set_ylabel(\"True Label\",fontsize=20)\n",
    "ax.tick_params(labelsize=13)\n",
    "ax.set_xticklabels(listLabels)\n",
    "ax.set_yticklabels(listLabels)\n",
    "plt.yticks(rotation=0)"
   ]
  },
  {
   "cell_type": "code",
   "execution_count": 16,
   "metadata": {
    "id": "bkDCuZkSs9sq"
   },
   "outputs": [
    {
     "name": "stdout",
     "output_type": "stream",
     "text": [
      "Accuracy sulle sequenze good:  0.9331313131313131\n",
      "Accuracy sulle sequenze failed:  0.7840909090909091\n",
      "Accuracy sulle sequenze good con tolleranza:  0.9464646464646465\n",
      "Accuracy sulle sequenze failed con tolleranza:  0.9659090909090909\n"
     ]
    }
   ],
   "source": [
    "predpd = predpd.rename(columns={predpd.columns[0]:'pred'})\n",
    "predpd['vero'] = ytestpd.values\n",
    "\n",
    "buoni = predpd[predpd.vero == 'c_Good']\n",
    "acc3 = accuracy_score(buoni.vero.values, buoni.pred.values)\n",
    "print('Accuracy sulle sequenze good: ', acc3)\n",
    "\n",
    "  \n",
    "failed = predpd[predpd.vero != 'c_Good']\n",
    "acc3 = accuracy_score(failed.vero.values, failed.pred.values)\n",
    "print('Accuracy sulle sequenze failed: ', acc3) \n",
    "\n",
    "  \n",
    "predpd['TOL']= predpd.apply(tolerance_acc, axis=1)\n",
    "predpd['TOL'] = predpd['TOL'].astype(int)\n",
    "\n",
    "buoni = predpd[predpd.vero == 'c_Good']\n",
    "prest = buoni.TOL.sum()/buoni.shape[0]\n",
    "print('Accuracy sulle sequenze good con tolleranza: ', prest)\n",
    "\n",
    "\n",
    "failed = predpd[predpd.vero != 'c_Good']\n",
    "prest = failed.TOL.sum()/failed.shape[0]\n",
    "print('Accuracy sulle sequenze failed con tolleranza: ', prest)"
   ]
  },
  {
   "cell_type": "code",
   "execution_count": 17,
   "metadata": {
    "id": "_62OrzcTtApC"
   },
   "outputs": [],
   "source": [
    "predpd['binaryLabelPred']= predpd.apply(binary_classification_pred, axis=1)\n",
    "predpd['binaryLabelTrue']= predpd.apply(binary_classification_label, axis=1)"
   ]
  },
  {
   "cell_type": "code",
   "execution_count": 18,
   "metadata": {
    "id": "YAVvawaWtB-L"
   },
   "outputs": [
    {
     "name": "stdout",
     "output_type": "stream",
     "text": [
      "FDR  0.9166666666666666\n",
      "FAR  0.05403776617115307\n"
     ]
    }
   ],
   "source": [
    "x = predpd[predpd.binaryLabelTrue ==1].binaryLabelTrue.count()\n",
    "y = predpd[(predpd.binaryLabelTrue ==1) & (predpd.binaryLabelPred ==1) ].binaryLabelTrue.count()\n",
    "\n",
    "FDR = y/x\n",
    "print('FDR ', FDR)\n",
    "\n",
    "x = predpd[predpd.binaryLabelTrue ==0].binaryLabelTrue.count()\n",
    "y = predpd[(predpd.binaryLabelTrue ==0) & (predpd.binaryLabelPred ==1) ].binaryLabelTrue.count()\n",
    "\n",
    "FAR = y/x\n",
    "print('FAR ', FAR)"
   ]
  }
 ],
 "metadata": {
  "accelerator": "GPU",
  "colab": {
   "collapsed_sections": [],
   "machine_shape": "hm",
   "name": "Train_LSTM.ipynb",
   "provenance": [],
   "toc_visible": true
  },
  "kernelspec": {
   "display_name": "PyCharm (systor2022-disk-scrubbing-main)",
   "language": "python",
   "name": "pycharm-94b55f9f"
  },
  "language_info": {
   "codemirror_mode": {
    "name": "ipython",
    "version": 3
   },
   "file_extension": ".py",
   "mimetype": "text/x-python",
   "name": "python",
   "nbconvert_exporter": "python",
   "pygments_lexer": "ipython3",
   "version": "3.7.2"
  }
 },
 "nbformat": 4,
 "nbformat_minor": 1
}
